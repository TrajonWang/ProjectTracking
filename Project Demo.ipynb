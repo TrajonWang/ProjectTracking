{
 "cells": [
  {
   "cell_type": "code",
   "execution_count": null,
   "id": "3c398bd2",
   "metadata": {},
   "outputs": [],
   "source": [
    "!pip install --upgrade typing_extensions"
   ]
  },
  {
   "cell_type": "code",
   "execution_count": null,
   "id": "de65e82b",
   "metadata": {},
   "outputs": [],
   "source": [
    "!pip install openai==0.28"
   ]
  },
  {
   "cell_type": "code",
   "execution_count": 1,
   "id": "a327ac46",
   "metadata": {},
   "outputs": [],
   "source": [
    "import tkinter as tk\n",
    "from tkinter import filedialog, messagebox\n",
    "import openai\n",
    "import os"
   ]
  },
  {
   "cell_type": "code",
   "execution_count": 2,
   "id": "0c005b34",
   "metadata": {},
   "outputs": [],
   "source": [
    "openai.api_key = 'xxxxxxxxxxxxxxxxxxxxxxxxxxxxxxxxxxxxxxxxx'\n",
    "\n",
    "# Different functions\n",
    "def select_image():\n",
    "    file_path = filedialog.askopenfilename(filetypes=[(\"Image files\", \"*.jpg *.png\")])\n",
    "    if file_path:\n",
    "        image_path.set(file_path)\n",
    "\n",
    "def select_audio():\n",
    "    file_path = filedialog.askopenfilename(filetypes=[(\"Audio files\", \"*.mp3\")])\n",
    "    if file_path:\n",
    "        audio_path.set(file_path)\n",
    "\n",
    "def summarize():\n",
    "    img = image_path.get()\n",
    "    aud = audio_path.get()\n",
    "    txt = text_input.get(\"1.0\", tk.END).strip()\n",
    "\n",
    "    if not img and not aud and not txt:\n",
    "        messagebox.showerror(\"Input Error\", \"Please provide at least one input (image, audio, or text).\")\n",
    "        return\n",
    "\n",
    "    prompt = f\"Image: {img}\\nAudio: {aud}\\nText: {txt}\\nplease conclude the customer's\\\n",
    "               requirements from the information provided.Answer as short as possible\"\n",
    "    \n",
    "    response = openai.ChatCompletion.create(\n",
    "        model=\"gpt-3.5-turbo\",\n",
    "        messages=[\n",
    "            {\"role\": \"system\", \"content\": \"You are a helpful assistant.\"},\n",
    "            {\"role\": \"user\", \"content\": prompt}\n",
    "        ]\n",
    "    )\n",
    "    \n",
    "    summary_output.set(response['choices'][0]['message']['content'].strip())"
   ]
  },
  {
   "cell_type": "code",
   "execution_count": 3,
   "id": "8b0ed97a",
   "metadata": {},
   "outputs": [],
   "source": [
    "# Create the main window\n",
    "root = tk.Tk()\n",
    "root.title(\"Summarizer\")\n",
    "\n",
    "# Define variables\n",
    "image_path = tk.StringVar()\n",
    "audio_path = tk.StringVar()\n",
    "summary_output = tk.StringVar()\n",
    "\n",
    "# Create and layout widgets\n",
    "tk.Label(root, text=\"Select Image:\").grid(row=0, column=0, padx=10, pady=10)\n",
    "tk.Entry(root, textvariable=image_path, width=50).grid(row=0, column=1, padx=10, pady=10)\n",
    "tk.Button(root, text=\"Browse\", command=select_image).grid(row=0, column=2, padx=10, pady=10)\n",
    "\n",
    "tk.Label(root, text=\"Select Audio:\").grid(row=1, column=0, padx=10, pady=10)\n",
    "tk.Entry(root, textvariable=audio_path, width=50).grid(row=1, column=1, padx=10, pady=10)\n",
    "tk.Button(root, text=\"Browse\", command=select_audio).grid(row=1, column=2, padx=10, pady=10)\n",
    "\n",
    "tk.Label(root, text=\"Enter Text:\").grid(row=2, column=0, padx=10, pady=10)\n",
    "text_input = tk.Text(root, height=10, width=50)\n",
    "text_input.grid(row=2, column=1, columnspan=2, padx=10, pady=10)\n",
    "\n",
    "tk.Button(root, text=\"Summary\", command=summarize).grid(row=3, column=1, padx=10, pady=20)\n",
    "\n",
    "tk.Label(root, text=\"Summary Output:\").grid(row=4, column=0, padx=10, pady=10)\n",
    "tk.Label(root, textvariable=summary_output, wraplength=400, justify=\"left\").grid(row=4, column=1, columnspan=2, padx=10, pady=10)"
   ]
  },
  {
   "cell_type": "code",
   "execution_count": 4,
   "id": "4e3781f7",
   "metadata": {},
   "outputs": [],
   "source": [
    "# The main loop\n",
    "root.mainloop()"
   ]
  },
  {
   "cell_type": "code",
   "execution_count": null,
   "id": "aedbdc47",
   "metadata": {},
   "outputs": [],
   "source": []
  }
 ],
 "metadata": {
  "kernelspec": {
   "display_name": "Python 3 (ipykernel)",
   "language": "python",
   "name": "python3"
  },
  "language_info": {
   "codemirror_mode": {
    "name": "ipython",
    "version": 3
   },
   "file_extension": ".py",
   "mimetype": "text/x-python",
   "name": "python",
   "nbconvert_exporter": "python",
   "pygments_lexer": "ipython3",
   "version": "3.9.13"
  }
 },
 "nbformat": 4,
 "nbformat_minor": 5
}
